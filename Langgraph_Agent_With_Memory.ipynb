{
  "nbformat": 4,
  "nbformat_minor": 0,
  "metadata": {
    "colab": {
      "provenance": []
    },
    "kernelspec": {
      "name": "python3",
      "display_name": "Python 3"
    },
    "language_info": {
      "name": "python"
    }
  },
  "cells": [
    {
      "cell_type": "code",
      "execution_count": 1,
      "metadata": {
        "colab": {
          "base_uri": "https://localhost:8080/"
        },
        "id": "NwwfhtPK82eT",
        "outputId": "f4251273-bdcb-499c-b911-430945f28872"
      },
      "outputs": [
        {
          "output_type": "stream",
          "name": "stdout",
          "text": [
            "Collecting langgraph\n",
            "  Downloading langgraph-0.2.59-py3-none-any.whl.metadata (15 kB)\n",
            "Requirement already satisfied: langsmith in /usr/local/lib/python3.10/dist-packages (0.1.147)\n",
            "Requirement already satisfied: langchain in /usr/local/lib/python3.10/dist-packages (0.3.9)\n",
            "Collecting langchain_groq\n",
            "  Downloading langchain_groq-0.2.1-py3-none-any.whl.metadata (2.9 kB)\n",
            "Collecting langchain_community\n",
            "  Downloading langchain_community-0.3.11-py3-none-any.whl.metadata (2.9 kB)\n",
            "Collecting langchain-core!=0.3.0,!=0.3.1,!=0.3.10,!=0.3.11,!=0.3.12,!=0.3.13,!=0.3.14,!=0.3.15,!=0.3.16,!=0.3.17,!=0.3.18,!=0.3.19,!=0.3.2,!=0.3.20,!=0.3.21,!=0.3.22,!=0.3.3,!=0.3.4,!=0.3.5,!=0.3.6,!=0.3.7,!=0.3.8,!=0.3.9,<0.4.0,>=0.2.43 (from langgraph)\n",
            "  Downloading langchain_core-0.3.24-py3-none-any.whl.metadata (6.3 kB)\n",
            "Collecting langgraph-checkpoint<3.0.0,>=2.0.4 (from langgraph)\n",
            "  Downloading langgraph_checkpoint-2.0.8-py3-none-any.whl.metadata (4.6 kB)\n",
            "Collecting langgraph-sdk<0.2.0,>=0.1.42 (from langgraph)\n",
            "  Downloading langgraph_sdk-0.1.43-py3-none-any.whl.metadata (1.8 kB)\n",
            "Requirement already satisfied: httpx<1,>=0.23.0 in /usr/local/lib/python3.10/dist-packages (from langsmith) (0.28.0)\n",
            "Requirement already satisfied: orjson<4.0.0,>=3.9.14 in /usr/local/lib/python3.10/dist-packages (from langsmith) (3.10.12)\n",
            "Requirement already satisfied: pydantic<3,>=1 in /usr/local/lib/python3.10/dist-packages (from langsmith) (2.10.3)\n",
            "Requirement already satisfied: requests<3,>=2 in /usr/local/lib/python3.10/dist-packages (from langsmith) (2.32.3)\n",
            "Requirement already satisfied: requests-toolbelt<2.0.0,>=1.0.0 in /usr/local/lib/python3.10/dist-packages (from langsmith) (1.0.0)\n",
            "Requirement already satisfied: PyYAML>=5.3 in /usr/local/lib/python3.10/dist-packages (from langchain) (6.0.2)\n",
            "Requirement already satisfied: SQLAlchemy<3,>=1.4 in /usr/local/lib/python3.10/dist-packages (from langchain) (2.0.36)\n",
            "Requirement already satisfied: aiohttp<4.0.0,>=3.8.3 in /usr/local/lib/python3.10/dist-packages (from langchain) (3.11.9)\n",
            "Requirement already satisfied: async-timeout<5.0.0,>=4.0.0 in /usr/local/lib/python3.10/dist-packages (from langchain) (4.0.3)\n",
            "Requirement already satisfied: langchain-text-splitters<0.4.0,>=0.3.0 in /usr/local/lib/python3.10/dist-packages (from langchain) (0.3.2)\n",
            "Requirement already satisfied: numpy<2,>=1.22.4 in /usr/local/lib/python3.10/dist-packages (from langchain) (1.26.4)\n",
            "Requirement already satisfied: tenacity!=8.4.0,<10,>=8.1.0 in /usr/local/lib/python3.10/dist-packages (from langchain) (9.0.0)\n",
            "Collecting groq<1,>=0.4.1 (from langchain_groq)\n",
            "  Downloading groq-0.13.0-py3-none-any.whl.metadata (13 kB)\n",
            "Collecting dataclasses-json<0.7,>=0.5.7 (from langchain_community)\n",
            "  Downloading dataclasses_json-0.6.7-py3-none-any.whl.metadata (25 kB)\n",
            "Collecting httpx-sse<0.5.0,>=0.4.0 (from langchain_community)\n",
            "  Downloading httpx_sse-0.4.0-py3-none-any.whl.metadata (9.0 kB)\n",
            "Collecting langchain\n",
            "  Downloading langchain-0.3.11-py3-none-any.whl.metadata (7.1 kB)\n",
            "Collecting pydantic-settings<3.0.0,>=2.4.0 (from langchain_community)\n",
            "  Downloading pydantic_settings-2.6.1-py3-none-any.whl.metadata (3.5 kB)\n",
            "Requirement already satisfied: aiohappyeyeballs>=2.3.0 in /usr/local/lib/python3.10/dist-packages (from aiohttp<4.0.0,>=3.8.3->langchain) (2.4.4)\n",
            "Requirement already satisfied: aiosignal>=1.1.2 in /usr/local/lib/python3.10/dist-packages (from aiohttp<4.0.0,>=3.8.3->langchain) (1.3.1)\n",
            "Requirement already satisfied: attrs>=17.3.0 in /usr/local/lib/python3.10/dist-packages (from aiohttp<4.0.0,>=3.8.3->langchain) (24.2.0)\n",
            "Requirement already satisfied: frozenlist>=1.1.1 in /usr/local/lib/python3.10/dist-packages (from aiohttp<4.0.0,>=3.8.3->langchain) (1.5.0)\n",
            "Requirement already satisfied: multidict<7.0,>=4.5 in /usr/local/lib/python3.10/dist-packages (from aiohttp<4.0.0,>=3.8.3->langchain) (6.1.0)\n",
            "Requirement already satisfied: propcache>=0.2.0 in /usr/local/lib/python3.10/dist-packages (from aiohttp<4.0.0,>=3.8.3->langchain) (0.2.1)\n",
            "Requirement already satisfied: yarl<2.0,>=1.17.0 in /usr/local/lib/python3.10/dist-packages (from aiohttp<4.0.0,>=3.8.3->langchain) (1.18.3)\n",
            "Collecting marshmallow<4.0.0,>=3.18.0 (from dataclasses-json<0.7,>=0.5.7->langchain_community)\n",
            "  Downloading marshmallow-3.23.1-py3-none-any.whl.metadata (7.5 kB)\n",
            "Collecting typing-inspect<1,>=0.4.0 (from dataclasses-json<0.7,>=0.5.7->langchain_community)\n",
            "  Downloading typing_inspect-0.9.0-py3-none-any.whl.metadata (1.5 kB)\n",
            "Requirement already satisfied: anyio<5,>=3.5.0 in /usr/local/lib/python3.10/dist-packages (from groq<1,>=0.4.1->langchain_groq) (3.7.1)\n",
            "Requirement already satisfied: distro<2,>=1.7.0 in /usr/local/lib/python3.10/dist-packages (from groq<1,>=0.4.1->langchain_groq) (1.9.0)\n",
            "Requirement already satisfied: sniffio in /usr/local/lib/python3.10/dist-packages (from groq<1,>=0.4.1->langchain_groq) (1.3.1)\n",
            "Requirement already satisfied: typing-extensions<5,>=4.7 in /usr/local/lib/python3.10/dist-packages (from groq<1,>=0.4.1->langchain_groq) (4.12.2)\n",
            "Requirement already satisfied: certifi in /usr/local/lib/python3.10/dist-packages (from httpx<1,>=0.23.0->langsmith) (2024.8.30)\n",
            "Requirement already satisfied: httpcore==1.* in /usr/local/lib/python3.10/dist-packages (from httpx<1,>=0.23.0->langsmith) (1.0.7)\n",
            "Requirement already satisfied: idna in /usr/local/lib/python3.10/dist-packages (from httpx<1,>=0.23.0->langsmith) (3.10)\n",
            "Requirement already satisfied: h11<0.15,>=0.13 in /usr/local/lib/python3.10/dist-packages (from httpcore==1.*->httpx<1,>=0.23.0->langsmith) (0.14.0)\n",
            "Requirement already satisfied: jsonpatch<2.0,>=1.33 in /usr/local/lib/python3.10/dist-packages (from langchain-core!=0.3.0,!=0.3.1,!=0.3.10,!=0.3.11,!=0.3.12,!=0.3.13,!=0.3.14,!=0.3.15,!=0.3.16,!=0.3.17,!=0.3.18,!=0.3.19,!=0.3.2,!=0.3.20,!=0.3.21,!=0.3.22,!=0.3.3,!=0.3.4,!=0.3.5,!=0.3.6,!=0.3.7,!=0.3.8,!=0.3.9,<0.4.0,>=0.2.43->langgraph) (1.33)\n",
            "Requirement already satisfied: packaging<25,>=23.2 in /usr/local/lib/python3.10/dist-packages (from langchain-core!=0.3.0,!=0.3.1,!=0.3.10,!=0.3.11,!=0.3.12,!=0.3.13,!=0.3.14,!=0.3.15,!=0.3.16,!=0.3.17,!=0.3.18,!=0.3.19,!=0.3.2,!=0.3.20,!=0.3.21,!=0.3.22,!=0.3.3,!=0.3.4,!=0.3.5,!=0.3.6,!=0.3.7,!=0.3.8,!=0.3.9,<0.4.0,>=0.2.43->langgraph) (24.2)\n",
            "Requirement already satisfied: msgpack<2.0.0,>=1.1.0 in /usr/local/lib/python3.10/dist-packages (from langgraph-checkpoint<3.0.0,>=2.0.4->langgraph) (1.1.0)\n",
            "Requirement already satisfied: annotated-types>=0.6.0 in /usr/local/lib/python3.10/dist-packages (from pydantic<3,>=1->langsmith) (0.7.0)\n",
            "Requirement already satisfied: pydantic-core==2.27.1 in /usr/local/lib/python3.10/dist-packages (from pydantic<3,>=1->langsmith) (2.27.1)\n",
            "Collecting python-dotenv>=0.21.0 (from pydantic-settings<3.0.0,>=2.4.0->langchain_community)\n",
            "  Downloading python_dotenv-1.0.1-py3-none-any.whl.metadata (23 kB)\n",
            "Requirement already satisfied: charset-normalizer<4,>=2 in /usr/local/lib/python3.10/dist-packages (from requests<3,>=2->langsmith) (3.4.0)\n",
            "Requirement already satisfied: urllib3<3,>=1.21.1 in /usr/local/lib/python3.10/dist-packages (from requests<3,>=2->langsmith) (2.2.3)\n",
            "Requirement already satisfied: greenlet!=0.4.17 in /usr/local/lib/python3.10/dist-packages (from SQLAlchemy<3,>=1.4->langchain) (3.1.1)\n",
            "Requirement already satisfied: exceptiongroup in /usr/local/lib/python3.10/dist-packages (from anyio<5,>=3.5.0->groq<1,>=0.4.1->langchain_groq) (1.2.2)\n",
            "Requirement already satisfied: jsonpointer>=1.9 in /usr/local/lib/python3.10/dist-packages (from jsonpatch<2.0,>=1.33->langchain-core!=0.3.0,!=0.3.1,!=0.3.10,!=0.3.11,!=0.3.12,!=0.3.13,!=0.3.14,!=0.3.15,!=0.3.16,!=0.3.17,!=0.3.18,!=0.3.19,!=0.3.2,!=0.3.20,!=0.3.21,!=0.3.22,!=0.3.3,!=0.3.4,!=0.3.5,!=0.3.6,!=0.3.7,!=0.3.8,!=0.3.9,<0.4.0,>=0.2.43->langgraph) (3.0.0)\n",
            "Collecting mypy-extensions>=0.3.0 (from typing-inspect<1,>=0.4.0->dataclasses-json<0.7,>=0.5.7->langchain_community)\n",
            "  Downloading mypy_extensions-1.0.0-py3-none-any.whl.metadata (1.1 kB)\n",
            "Downloading langgraph-0.2.59-py3-none-any.whl (135 kB)\n",
            "\u001b[2K   \u001b[90m━━━━━━━━━━━━━━━━━━━━━━━━━━━━━━━━━━━━━━━━\u001b[0m \u001b[32m135.8/135.8 kB\u001b[0m \u001b[31m9.7 MB/s\u001b[0m eta \u001b[36m0:00:00\u001b[0m\n",
            "\u001b[?25hDownloading langchain_groq-0.2.1-py3-none-any.whl (14 kB)\n",
            "Downloading langchain_community-0.3.11-py3-none-any.whl (2.5 MB)\n",
            "\u001b[2K   \u001b[90m━━━━━━━━━━━━━━━━━━━━━━━━━━━━━━━━━━━━━━━━\u001b[0m \u001b[32m2.5/2.5 MB\u001b[0m \u001b[31m24.0 MB/s\u001b[0m eta \u001b[36m0:00:00\u001b[0m\n",
            "\u001b[?25hDownloading langchain-0.3.11-py3-none-any.whl (1.0 MB)\n",
            "\u001b[2K   \u001b[90m━━━━━━━━━━━━━━━━━━━━━━━━━━━━━━━━━━━━━━━━\u001b[0m \u001b[32m1.0/1.0 MB\u001b[0m \u001b[31m31.3 MB/s\u001b[0m eta \u001b[36m0:00:00\u001b[0m\n",
            "\u001b[?25hDownloading dataclasses_json-0.6.7-py3-none-any.whl (28 kB)\n",
            "Downloading groq-0.13.0-py3-none-any.whl (108 kB)\n",
            "\u001b[2K   \u001b[90m━━━━━━━━━━━━━━━━━━━━━━━━━━━━━━━━━━━━━━━━\u001b[0m \u001b[32m108.8/108.8 kB\u001b[0m \u001b[31m6.7 MB/s\u001b[0m eta \u001b[36m0:00:00\u001b[0m\n",
            "\u001b[?25hDownloading httpx_sse-0.4.0-py3-none-any.whl (7.8 kB)\n",
            "Downloading langchain_core-0.3.24-py3-none-any.whl (410 kB)\n",
            "\u001b[2K   \u001b[90m━━━━━━━━━━━━━━━━━━━━━━━━━━━━━━━━━━━━━━━━\u001b[0m \u001b[32m410.6/410.6 kB\u001b[0m \u001b[31m19.1 MB/s\u001b[0m eta \u001b[36m0:00:00\u001b[0m\n",
            "\u001b[?25hDownloading langgraph_checkpoint-2.0.8-py3-none-any.whl (35 kB)\n",
            "Downloading langgraph_sdk-0.1.43-py3-none-any.whl (31 kB)\n",
            "Downloading pydantic_settings-2.6.1-py3-none-any.whl (28 kB)\n",
            "Downloading marshmallow-3.23.1-py3-none-any.whl (49 kB)\n",
            "\u001b[2K   \u001b[90m━━━━━━━━━━━━━━━━━━━━━━━━━━━━━━━━━━━━━━━━\u001b[0m \u001b[32m49.5/49.5 kB\u001b[0m \u001b[31m3.1 MB/s\u001b[0m eta \u001b[36m0:00:00\u001b[0m\n",
            "\u001b[?25hDownloading python_dotenv-1.0.1-py3-none-any.whl (19 kB)\n",
            "Downloading typing_inspect-0.9.0-py3-none-any.whl (8.8 kB)\n",
            "Downloading mypy_extensions-1.0.0-py3-none-any.whl (4.7 kB)\n",
            "Installing collected packages: python-dotenv, mypy-extensions, marshmallow, httpx-sse, typing-inspect, pydantic-settings, langgraph-sdk, groq, dataclasses-json, langchain-core, langgraph-checkpoint, langchain_groq, langgraph, langchain, langchain_community\n",
            "  Attempting uninstall: langchain-core\n",
            "    Found existing installation: langchain-core 0.3.21\n",
            "    Uninstalling langchain-core-0.3.21:\n",
            "      Successfully uninstalled langchain-core-0.3.21\n",
            "  Attempting uninstall: langchain\n",
            "    Found existing installation: langchain 0.3.9\n",
            "    Uninstalling langchain-0.3.9:\n",
            "      Successfully uninstalled langchain-0.3.9\n",
            "Successfully installed dataclasses-json-0.6.7 groq-0.13.0 httpx-sse-0.4.0 langchain-0.3.11 langchain-core-0.3.24 langchain_community-0.3.11 langchain_groq-0.2.1 langgraph-0.2.59 langgraph-checkpoint-2.0.8 langgraph-sdk-0.1.43 marshmallow-3.23.1 mypy-extensions-1.0.0 pydantic-settings-2.6.1 python-dotenv-1.0.1 typing-inspect-0.9.0\n"
          ]
        }
      ],
      "source": [
        "!pip install langgraph langsmith langchain langchain_groq langchain_community"
      ]
    },
    {
      "cell_type": "code",
      "source": [
        "from langchain_groq import ChatGroq\n",
        "from google.colab import userdata\n",
        "groq_api_key=userdata.get(\"groq_api_key\")\n",
        "\n",
        "llm=ChatGroq(groq_api_key=groq_api_key,model_name=\"Gemma2-9b-It\")\n",
        "llm"
      ],
      "metadata": {
        "colab": {
          "base_uri": "https://localhost:8080/"
        },
        "id": "YDF5kKag9YYz",
        "outputId": "52048bb1-f2a1-4bc4-b50f-0e17ca5aa7bf"
      },
      "execution_count": 2,
      "outputs": [
        {
          "output_type": "execute_result",
          "data": {
            "text/plain": [
              "ChatGroq(client=<groq.resources.chat.completions.Completions object at 0x7e73ed3c4ca0>, async_client=<groq.resources.chat.completions.AsyncCompletions object at 0x7e73ed674f40>, model_name='Gemma2-9b-It', model_kwargs={}, groq_api_key=SecretStr('**********'))"
            ]
          },
          "metadata": {},
          "execution_count": 2
        }
      ]
    },
    {
      "cell_type": "code",
      "source": [
        "from langgraph.checkpoint.memory import MemorySaver\n",
        "\n",
        "memory = MemorySaver()"
      ],
      "metadata": {
        "id": "EMF_Cc5b9r3S"
      },
      "execution_count": 3,
      "outputs": []
    },
    {
      "cell_type": "code",
      "source": [
        "from typing import Annotated\n",
        "from typing_extensions import TypedDict\n",
        "from langgraph.graph.message import add_messages\n",
        "from langgraph.graph import StateGraph, START, END\n",
        "\n",
        "class State(TypedDict):\n",
        "  messages: Annotated[list, add_messages]\n",
        "\n",
        "graph_builder = StateGraph(State)\n",
        "\n",
        "def chatbot(state: State):\n",
        "  return {\"messages\": [llm.invoke(state[\"messages\"])]}\n",
        "\n",
        "graph_builder.add_node(\"chatbot\", chatbot)\n",
        "graph_builder.add_edge(START,\"chatbot\")\n",
        "graph_builder.add_edge(\"chatbot\",END)"
      ],
      "metadata": {
        "colab": {
          "base_uri": "https://localhost:8080/"
        },
        "id": "auPR5hV6900k",
        "outputId": "f481470d-2b25-4ad7-cc54-ac0f5da63354"
      },
      "execution_count": 5,
      "outputs": [
        {
          "output_type": "execute_result",
          "data": {
            "text/plain": [
              "<langgraph.graph.state.StateGraph at 0x7e73ed2bcee0>"
            ]
          },
          "metadata": {},
          "execution_count": 5
        }
      ]
    },
    {
      "cell_type": "code",
      "source": [
        "graph = graph_builder.compile(checkpointer=memory)"
      ],
      "metadata": {
        "id": "7889v5Vy_gE0"
      },
      "execution_count": 6,
      "outputs": []
    },
    {
      "cell_type": "code",
      "source": [
        "from IPython.display import Image, display\n",
        "\n",
        "try:\n",
        "    display(Image(graph.get_graph().draw_mermaid_png()))\n",
        "except Exception:\n",
        "    # This requires some extra dependencies and is optional\n",
        "    pass"
      ],
      "metadata": {
        "colab": {
          "base_uri": "https://localhost:8080/",
          "height": 271
        },
        "id": "IfXjk9ZI_oTS",
        "outputId": "4750a46a-6b7f-4cf7-f67f-b0ad1dce8136"
      },
      "execution_count": 7,
      "outputs": [
        {
          "output_type": "display_data",
          "data": {
            "image/png": "[encoded data removed]",
            "text/plain": [
              "<IPython.core.display.Image object>"
            ]
          },
          "metadata": {}
        }
      ]
    },
    {
      "cell_type": "code",
      "source": [
        "config = {\"configurable\": {\"thread_id\": \"1\"}}"
      ],
      "metadata": {
        "id": "5ow14ppq__e9"
      },
      "execution_count": 8,
      "outputs": []
    },
    {
      "cell_type": "code",
      "source": [
        "user_input = \"Hi there! My name is Kedar.\"\n",
        "\n",
        "# The config is the **second positional argument** to stream() or invoke()!\n",
        "events = graph.stream(\n",
        "    {\"messages\": [(\"user\", user_input)]}, config, stream_mode=\"values\"\n",
        ")\n",
        "for event in events:\n",
        "    event[\"messages\"][-1].pretty_print()"
      ],
      "metadata": {
        "colab": {
          "base_uri": "https://localhost:8080/"
        },
        "id": "7Rq8weB-AExu",
        "outputId": "22f1beb4-9fec-4618-9fb9-3768bd92201e"
      },
      "execution_count": 9,
      "outputs": [
        {
          "output_type": "stream",
          "name": "stdout",
          "text": [
            "================================\u001b[1m Human Message \u001b[0m=================================\n",
            "\n",
            "Hi there! My name is Kedar.\n",
            "==================================\u001b[1m Ai Message \u001b[0m==================================\n",
            "\n",
            "Hi Kedar, it's nice to meet you! 👋\n",
            "\n",
            "What can I do for you today? 😊\n"
          ]
        }
      ]
    },
    {
      "cell_type": "code",
      "source": [
        "user_input = \"What is my name?\"\n",
        "\n",
        "# The config is the **second positional argument** to stream() or invoke()!\n",
        "events = graph.stream(\n",
        "    {\"messages\": [(\"user\", user_input)]}, config, stream_mode=\"values\"\n",
        ")\n",
        "for event in events:\n",
        "    event[\"messages\"][-1].pretty_print()"
      ],
      "metadata": {
        "colab": {
          "base_uri": "https://localhost:8080/"
        },
        "id": "fJ29ui-4AIzB",
        "outputId": "ae27498b-436c-4271-e50a-a3c848c774a0"
      },
      "execution_count": 10,
      "outputs": [
        {
          "output_type": "stream",
          "name": "stdout",
          "text": [
            "================================\u001b[1m Human Message \u001b[0m=================================\n",
            "\n",
            "What is my name?\n",
            "==================================\u001b[1m Ai Message \u001b[0m==================================\n",
            "\n",
            "Your name is Kedar. You told me at the beginning of our conversation! 😄 \n",
            "\n",
            "Is there anything else I can help you with?\n"
          ]
        }
      ]
    },
    {
      "cell_type": "code",
      "source": [
        "user_input = \"What is Java?\"\n",
        "\n",
        "# The config is the **second positional argument** to stream() or invoke()!\n",
        "events = graph.stream(\n",
        "    {\"messages\": [(\"user\", user_input)]}, config, stream_mode=\"values\"\n",
        ")\n",
        "for event in events:\n",
        "    event[\"messages\"][-1].pretty_print()"
      ],
      "metadata": {
        "colab": {
          "base_uri": "https://localhost:8080/"
        },
        "id": "nWrM_0HcK3Kc",
        "outputId": "3b37aac0-10fa-4dbe-a5df-8be01a829e27"
      },
      "execution_count": 11,
      "outputs": [
        {
          "output_type": "stream",
          "name": "stdout",
          "text": [
            "================================\u001b[1m Human Message \u001b[0m=================================\n",
            "\n",
            "What is Java?\n",
            "==================================\u001b[1m Ai Message \u001b[0m==================================\n",
            "\n",
            "Java is a popular, powerful, and versatile programming language. \n",
            "\n",
            "Here's a breakdown:\n",
            "\n",
            "**What it is:**\n",
            "\n",
            "* **Object-oriented:**  Java is structured around the concept of \"objects,\" which are like blueprints for creating things in your program. This makes code more organized, reusable, and easier to understand.\n",
            "* **Compiled language:**  Java code is first translated into a special format called bytecode, which can then be run on any device with a Java Virtual Machine (JVM).\n",
            "* **Platform-independent:** Because of the JVM, Java programs can run on various operating systems (Windows, macOS, Linux, etc.) without needing to be rewritten.\n",
            "\n",
            "**What it's used for:**\n",
            "\n",
            "* **Android app development:**  Java is the primary language for creating Android apps.\n",
            "* **Enterprise applications:**  Large companies use Java to build robust and scalable business applications.\n",
            "* **Web development:**  Java can be used for server-side web development, powering dynamic websites and web services.\n",
            "* **Big data and machine learning:**  Java's performance and scalability make it suitable for handling massive datasets and complex algorithms.\n",
            "* **Scientific computing:**  Java is used in research and development for scientific simulations and data analysis.\n",
            "\n",
            "**Why it's popular:**\n",
            "\n",
            "* **Widely used:**  Java has a massive community of developers, which means there's plenty of support, resources, and libraries available.\n",
            "* **Reliable and secure:**  Java has a strong reputation for stability and security, making it a good choice for mission-critical applications.\n",
            "* **Well-documented:**  Java has extensive documentation and tutorials, making it easier to learn and use.\n",
            "\n",
            "Let me know if you have any more questions about Java. I'm happy to explain further!\n"
          ]
        }
      ]
    },
    {
      "cell_type": "code",
      "source": [
        "user_input = \"What is GenAI?\"\n",
        "\n",
        "# The config is the **second positional argument** to stream() or invoke()!\n",
        "events = graph.stream(\n",
        "    {\"messages\": [(\"user\", user_input)]}, config, stream_mode=\"values\"\n",
        ")\n",
        "for event in events:\n",
        "    event[\"messages\"][-1].pretty_print()"
      ],
      "metadata": {
        "colab": {
          "base_uri": "https://localhost:8080/"
        },
        "id": "UKqGcPFiK3Vf",
        "outputId": "977139f6-b70b-45a2-8bea-ce7c7d429908"
      },
      "execution_count": 12,
      "outputs": [
        {
          "output_type": "stream",
          "name": "stdout",
          "text": [
            "================================\u001b[1m Human Message \u001b[0m=================================\n",
            "\n",
            "What is GenAI?\n",
            "==================================\u001b[1m Ai Message \u001b[0m==================================\n",
            "\n",
            "GenAI stands for **Generative Artificial Intelligence**. \n",
            "\n",
            "It's a type of AI that focuses on creating new content, rather than just analyzing existing data. Imagine AI that can write stories, compose music, design images, or even generate code – that's GenAI in action!\n",
            "\n",
            "Here's a breakdown:\n",
            "\n",
            "* **Generative:**  This means the AI can produce original outputs, not just copy or summarize existing information.\n",
            "* **Artificial Intelligence:** It relies on complex algorithms and machine learning techniques to learn patterns and structures from data, enabling it to create something new.\n",
            "\n",
            "**How it works:**\n",
            "\n",
            "GenAI models are typically trained on massive datasets of text, code, images, or other types of data. They learn the underlying patterns and relationships within this data, allowing them to generate new content that resembles the training data.\n",
            "\n",
            "**Examples of GenAI:**\n",
            "\n",
            "* **Text Generation:** ChatGPT (like me!), Bard, Jasper, and others can write stories, articles, poems, dialogue, and more.\n",
            "* **Image Generation:** DALL-E 2, Midjourney, and Stable Diffusion can create realistic or imaginative images from text descriptions.\n",
            "* **Code Generation:** GitHub Copilot and other tools can assist developers by suggesting code snippets and completing functions.\n",
            "* **Music Composition:** AI models can compose original music in various styles and genres.\n",
            "\n",
            "**Potential applications:**\n",
            "\n",
            "GenAI has the potential to revolutionize many fields, including:\n",
            "\n",
            "* **Creative Industries:** Writing, art, music, design\n",
            "* **Education:** Personalized learning, generating educational content\n",
            "* **Business:** Automating content creation, improving customer service\n",
            "* **Research:** Accelerating scientific discovery, generating hypotheses\n",
            "\n",
            "GenAI is a rapidly evolving field with exciting possibilities. As these models continue to improve, we can expect even more innovative applications in the future.\n"
          ]
        }
      ]
    },
    {
      "cell_type": "code",
      "source": [
        "user_input = \"What is Python in Computer Science\"\n",
        "\n",
        "# The config is the **second positional argument** to stream() or invoke()!\n",
        "events = graph.stream(\n",
        "    {\"messages\": [(\"user\", user_input)]}, config, stream_mode=\"values\"\n",
        ")\n",
        "for event in events:\n",
        "    event[\"messages\"][-1].pretty_print()"
      ],
      "metadata": {
        "colab": {
          "base_uri": "https://localhost:8080/"
        },
        "id": "I3EFGtu1LFdK",
        "outputId": "ae4f8ea1-b1f4-4e69-8d63-b7e1cf60c407"
      },
      "execution_count": 13,
      "outputs": [
        {
          "output_type": "stream",
          "name": "stdout",
          "text": [
            "================================\u001b[1m Human Message \u001b[0m=================================\n",
            "\n",
            "What is Python in Computer Science\n",
            "==================================\u001b[1m Ai Message \u001b[0m==================================\n",
            "\n",
            "Python is like a versatile Swiss Army knife in the world of computer science. It's a high-level, interpreted programming language known for its readability and beginner-friendliness.  \n",
            "\n",
            "Here's a breakdown:\n",
            "\n",
            "**What makes Python special:**\n",
            "\n",
            "* **Readable Syntax:** Python's code resembles plain English, making it easier to learn and understand compared to some other languages with more complex syntax.\n",
            "\n",
            "* **Beginner-Friendly:** Its simple structure and clear rules make it a great starting point for aspiring programmers.\n",
            "\n",
            "* **Versatile:** Python is used in a wide range of applications, from web development and data science to scripting, automation, and artificial intelligence.\n",
            "\n",
            "* **Extensive Libraries:** Python boasts a vast collection of pre-written code (libraries) that provide ready-made solutions for common tasks, saving you time and effort.\n",
            "\n",
            "* **Large Community:** Python has a massive and active community of developers who contribute to its growth, provide support, and create new libraries and tools.\n",
            "\n",
            "**Common Uses of Python:**\n",
            "\n",
            "* **Web Development:** Frameworks like Django and Flask simplify the process of building web applications.\n",
            "\n",
            "* **Data Science and Machine Learning:** Libraries like NumPy, pandas, scikit-learn, and TensorFlow make Python a powerhouse for data analysis, visualization, and building machine learning models.\n",
            "\n",
            "* **Scripting and Automation:** Python can automate repetitive tasks, such as file manipulation, system administration, and web scraping.\n",
            "* **Desktop Applications:** Python can be used to create graphical user interface (GUI) applications using libraries like Tkinter.\n",
            "* **Game Development:**  Libraries like Pygame provide tools for creating 2D games.\n",
            "\n",
            "**Learning Python:**\n",
            "\n",
            "If you're interested in learning Python, there are numerous online resources, courses, and tutorials available. Its beginner-friendly nature and vast community make it an excellent choice for both novice and experienced programmers.\n",
            "\n",
            "\n",
            "\n",
            "Let me know if you have any more questions about Python!\n"
          ]
        }
      ]
    },
    {
      "cell_type": "code",
      "source": [
        "user_input = \"Who is Harry Potter?\"\n",
        "\n",
        "# The config is the **second positional argument** to stream() or invoke()!\n",
        "events = graph.stream(\n",
        "    {\"messages\": [(\"user\", user_input)]}, config, stream_mode=\"values\"\n",
        ")\n",
        "for event in events:\n",
        "    event[\"messages\"][-1].pretty_print()"
      ],
      "metadata": {
        "colab": {
          "base_uri": "https://localhost:8080/"
        },
        "id": "SXMLl96SLFmh",
        "outputId": "f4571321-2d33-440f-d4e2-3ce4ae7b1314"
      },
      "execution_count": 14,
      "outputs": [
        {
          "output_type": "stream",
          "name": "stdout",
          "text": [
            "================================\u001b[1m Human Message \u001b[0m=================================\n",
            "\n",
            "Who is Harry Potter?\n",
            "==================================\u001b[1m Ai Message \u001b[0m==================================\n",
            "\n",
            "Harry Potter is the titular character of J.K. Rowling's beloved fantasy book series, *Harry Potter*. \n",
            "\n",
            "Here's a quick rundown:\n",
            "\n",
            "* **The Boy Who Lived:** Harry is famous in the wizarding world for surviving Lord Voldemort's killing curse as a baby, leaving him with a lightning-shaped scar. This event made Voldemort disappear and earned Harry the title \"The Boy Who Lived.\"\n",
            "* **Orphaned and Unhappy:**  Harry lived a miserable life with his neglectful and abusive aunt, uncle, and cousin before attending Hogwarts School of Witchcraft and Wizardry on his eleventh birthday.\n",
            "* **Chosen One:**  Harry learns he is a wizard and that he's destined to face Lord Voldemort, who seeks to regain power and immortality.\n",
            "* **Loyal Friends:**  At Hogwarts, Harry befriends Ron Weasley and Hermione Granger, who become his loyal companions throughout his adventures.\n",
            "* **Facing Evil:**  Over seven books, Harry confronts Voldemort and his followers, unraveling mysteries about his past, his parents' death, and his own connection to the Dark Lord.\n",
            "* **A Symbol of Hope:** Harry's courage, resilience, and unwavering belief in love and friendship inspire millions of readers worldwide.\n",
            "\n",
            "The *Harry Potter* series is a global phenomenon, captivating readers of all ages with its magical world, compelling characters, and timeless themes of good versus evil, friendship, and self-discovery.\n"
          ]
        }
      ]
    },
    {
      "cell_type": "code",
      "source": [
        "user_input = \"What is AI?\"\n",
        "\n",
        "# The config is the **second positional argument** to stream() or invoke()!\n",
        "events = graph.stream(\n",
        "    {\"messages\": [(\"user\", user_input)]}, config, stream_mode=\"values\"\n",
        ")\n",
        "for event in events:\n",
        "    event[\"messages\"][-1].pretty_print()"
      ],
      "metadata": {
        "colab": {
          "base_uri": "https://localhost:8080/"
        },
        "id": "UKIObjtBLFue",
        "outputId": "b428ad79-61d8-4ef7-a247-49ea53eae5fa"
      },
      "execution_count": 15,
      "outputs": [
        {
          "output_type": "stream",
          "name": "stdout",
          "text": [
            "================================\u001b[1m Human Message \u001b[0m=================================\n",
            "\n",
            "What is AI?\n",
            "==================================\u001b[1m Ai Message \u001b[0m==================================\n",
            "\n",
            "AI stands for **Artificial Intelligence**. \n",
            "\n",
            "Essentially, it's the ability of a computer or a robot controlled by a computer to do tasks that are usually done by humans because they require human intelligence and discernment. \n",
            "\n",
            "Here's a breakdown:\n",
            "\n",
            "**Key Characteristics of AI:**\n",
            "\n",
            "* **Learning:** AI systems can learn from data, identify patterns, and make predictions or decisions based on that learning.\n",
            "* **Reasoning:** AI can use logic and rules to solve problems and draw conclusions.\n",
            "* **Problem-solving:** AI can find solutions to complex problems, often by exploring multiple options and evaluating their consequences.\n",
            "* **Perception:** Some AI systems can interpret sensory information like images, sound, and text, allowing them to \"understand\" their environment.\n",
            "* **Natural Language Processing (NLP):**  AI can understand, interpret, and generate human language, enabling interactions like chatbots and language translation.\n",
            "\n",
            "**Types of AI:**\n",
            "\n",
            "* **Narrow or Weak AI:**  AI systems designed to perform a specific task, like playing chess or recognizing faces. This is the most common type of AI today.\n",
            "* **General or Strong AI:**  Theoretical AI that possesses human-level intelligence and can perform any intellectual task that a human can. This type of AI doesn't yet exist.\n",
            "* **Super AI:**  Hypothetical AI that surpasses human intelligence in all aspects. This is a topic of much debate and speculation.\n",
            "\n",
            "**Examples of AI in Action:**\n",
            "\n",
            "* **Self-driving cars:** Using computer vision and machine learning to navigate roads.\n",
            "* **Virtual assistants:** Like Siri, Alexa, and Google Assistant, understanding and responding to voice commands.\n",
            "* **Recommendation systems:**  Suggesting products or content based on your past behavior.\n",
            "* **Fraud detection:**  Identifying suspicious transactions in real time.\n",
            "* **Medical diagnosis:**  Assisting doctors in analyzing medical images and patient data.\n",
            "\n",
            "AI is a rapidly advancing field with the potential to transform many aspects of our lives.\n",
            "\n",
            "\n",
            "Let me know if you have any other questions!\n"
          ]
        }
      ]
    },
    {
      "cell_type": "code",
      "source": [
        "user_input = \"What is Capital of India?\"\n",
        "\n",
        "# The config is the **second positional argument** to stream() or invoke()!\n",
        "events = graph.stream(\n",
        "    {\"messages\": [(\"user\", user_input)]}, config, stream_mode=\"values\"\n",
        ")\n",
        "for event in events:\n",
        "    event[\"messages\"][-1].pretty_print()"
      ],
      "metadata": {
        "colab": {
          "base_uri": "https://localhost:8080/"
        },
        "id": "6pDelcI0LF2a",
        "outputId": "6c47818d-03b8-4c39-f2af-67a4cf38b19d"
      },
      "execution_count": 16,
      "outputs": [
        {
          "output_type": "stream",
          "name": "stdout",
          "text": [
            "================================\u001b[1m Human Message \u001b[0m=================================\n",
            "\n",
            "What is Capital of India?\n",
            "==================================\u001b[1m Ai Message \u001b[0m==================================\n",
            "\n",
            "The capital of India is **New Delhi**.\n"
          ]
        }
      ]
    },
    {
      "cell_type": "code",
      "source": [
        "user_input = \"What is London system in Chess\"\n",
        "\n",
        "# The config is the **second positional argument** to stream() or invoke()!\n",
        "events = graph.stream(\n",
        "    {\"messages\": [(\"user\", user_input)]}, config, stream_mode=\"values\"\n",
        ")\n",
        "for event in events:\n",
        "    event[\"messages\"][-1].pretty_print()"
      ],
      "metadata": {
        "colab": {
          "base_uri": "https://localhost:8080/"
        },
        "id": "_AeTfokdLF-j",
        "outputId": "35133a4b-fcd8-4d74-ddda-2bff28200510"
      },
      "execution_count": 17,
      "outputs": [
        {
          "output_type": "stream",
          "name": "stdout",
          "text": [
            "================================\u001b[1m Human Message \u001b[0m=================================\n",
            "\n",
            "What is London system in Chess\n",
            "==================================\u001b[1m Ai Message \u001b[0m==================================\n",
            "\n",
            "The London System in chess is a popular opening system known for its flexibility, simplicity, and strategic depth. \n",
            "\n",
            "Here's a breakdown:\n",
            "\n",
            "**Key Ideas:**\n",
            "\n",
            "* **Early Queen Development:** The London System typically involves developing the queen quickly to d3, aiming for a strong central presence and controlling important squares.\n",
            "* **Flexible Piece Placement:**  Instead of rigidly following specific lines, the London System emphasizes developing pieces naturally and reacting to the opponent's moves.\n",
            "* **Solid Pawn Structure:**  Players often create a solid pawn structure with pawns on c4 and d4, aiming for control of the center.\n",
            "* **Proactive Play:**  The London System encourages players to be proactive, looking for opportunities to attack and create imbalances.\n",
            "\n",
            "**Typical Moves:**\n",
            "\n",
            "1. d4  (The initial pawn move)\n",
            "\n",
            "2. Nf3 (Developing the knight to a central square)\n",
            "\n",
            "3. Bf4 (Developing the bishop to attack the center)\n",
            "\n",
            "4. e3 (Strengthening the center and preparing for potential pawn pushes)\n",
            "\n",
            "**Advantages:**\n",
            "\n",
            "* **Simplicity:**  It's relatively easy to learn and understand, making it a good choice for both beginners and experienced players.\n",
            "* **Flexibility:**  It allows for a wide range of plans and responses depending on the opponent's moves.\n",
            "* **Solidity:**  The pawn structure and piece placement tend to be solid and well-defended.\n",
            "* **Strategic Depth:**  The London System encourages strategic thinking and planning.\n",
            "\n",
            "**Disadvantages:**\n",
            "\n",
            "* **Can Be Passive:**  If not played carefully, the London System can lead to passive positions where White lacks initiative.\n",
            "* **Limited Open Games:**  It's not ideal for players who prefer sharp, open games with tactical battles.\n",
            "\n",
            "**Overall:**\n",
            "\n",
            "The London System is a solid and flexible opening system that offers a balanced approach to chess. Its simplicity and strategic depth make it a popular choice for players of all levels.\n"
          ]
        }
      ]
    },
    {
      "cell_type": "code",
      "source": [
        "user_input = \"What is my name?\"\n",
        "\n",
        "# The config is the **second positional argument** to stream() or invoke()!\n",
        "events = graph.stream(\n",
        "    {\"messages\": [(\"user\", user_input)]}, config, stream_mode=\"values\"\n",
        ")\n",
        "for event in events:\n",
        "    event[\"messages\"][-1].pretty_print()"
      ],
      "metadata": {
        "colab": {
          "base_uri": "https://localhost:8080/"
        },
        "id": "YZS_JlYHLb5A",
        "outputId": "508604d6-6ad7-470f-e1ad-2688ac6e8a9f"
      },
      "execution_count": 18,
      "outputs": [
        {
          "output_type": "stream",
          "name": "stdout",
          "text": [
            "================================\u001b[1m Human Message \u001b[0m=================================\n",
            "\n",
            "What is my name?\n",
            "==================================\u001b[1m Ai Message \u001b[0m==================================\n",
            "\n",
            "Your name is Kedar.  😊 \n",
            "\n",
            "Is there anything else I can help you with?\n"
          ]
        }
      ]
    },
    {
      "cell_type": "code",
      "source": [
        "user_input = \"What is the 1st message of this conversastion\"\n",
        "\n",
        "# The config is the **second positional argument** to stream() or invoke()!\n",
        "events = graph.stream(\n",
        "    {\"messages\": [(\"user\", user_input)]}, config, stream_mode=\"values\"\n",
        ")\n",
        "for event in events:\n",
        "    event[\"messages\"][-1].pretty_print()"
      ],
      "metadata": {
        "colab": {
          "base_uri": "https://localhost:8080/"
        },
        "id": "-Egh-esUMPDi",
        "outputId": "34d66f20-a5fb-4d38-98b8-c71a6c37285b"
      },
      "execution_count": 19,
      "outputs": [
        {
          "output_type": "stream",
          "name": "stdout",
          "text": [
            "================================\u001b[1m Human Message \u001b[0m=================================\n",
            "\n",
            "What is the 1st message of this conversastion\n",
            "==================================\u001b[1m Ai Message \u001b[0m==================================\n",
            "\n",
            "The first message of our conversation was: \"Hi there! My name is Kedar.\" \n",
            "\n",
            "\n",
            "\n",
            "Let me know if you have any other questions!\n"
          ]
        }
      ]
    },
    {
      "cell_type": "code",
      "source": [
        "# The only difference is we change the `thread_id` here to \"2\" instead of \"1\"\n",
        "events = graph.stream(\n",
        "    {\"messages\": [(\"user\", user_input)]},\n",
        "    {\"configurable\": {\"thread_id\": \"2\"}},\n",
        "    stream_mode=\"values\",\n",
        ")\n",
        "for event in events:\n",
        "    event[\"messages\"][-1].pretty_print()"
      ],
      "metadata": {
        "colab": {
          "base_uri": "https://localhost:8080/"
        },
        "id": "KOh-V7IuARd5",
        "outputId": "062bdf7a-6340-4014-9400-2d499ea19e93"
      },
      "execution_count": 20,
      "outputs": [
        {
          "output_type": "stream",
          "name": "stdout",
          "text": [
            "================================\u001b[1m Human Message \u001b[0m=================================\n",
            "\n",
            "What is the 1st message of this conversastion\n",
            "==================================\u001b[1m Ai Message \u001b[0m==================================\n",
            "\n",
            "The first message of this conversation was: \"What is the 1st message of this conversastion?\"\n"
          ]
        }
      ]
    }
  ]
}